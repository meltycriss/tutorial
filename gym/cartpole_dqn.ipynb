{
 "cells": [
  {
   "cell_type": "code",
   "execution_count": 244,
   "metadata": {
    "collapsed": true
   },
   "outputs": [],
   "source": [
    "# import\n",
    "import torch\n",
    "import torch.nn as nn\n",
    "from torch.autograd import Variable\n",
    "import torch.nn.functional as F\n",
    "import numpy as np\n",
    "import gym\n",
    "from collections import namedtuple\n",
    "import torch.optim as optim\n",
    "import random\n",
    "import matplotlib.pyplot as plt"
   ]
  },
  {
   "cell_type": "code",
   "execution_count": 245,
   "metadata": {
    "collapsed": true
   },
   "outputs": [],
   "source": [
    "# hyper-params\n",
    "GAMMA = .9\n",
    "LEARNING_RATE = .001\n",
    "EXPERIENCE_CAPACITY = 1000\n",
    "UPDATE_FREQUENCY = 10\n",
    "MAX_EPI = 200\n",
    "MAX_STEP = 200\n",
    "BATCH_SIZE = 30\n",
    "EPSILON = .1\n",
    "N_STATES = 4\n",
    "N_ACTIONS = 2"
   ]
  },
  {
   "cell_type": "code",
   "execution_count": 246,
   "metadata": {
    "collapsed": true
   },
   "outputs": [],
   "source": [
    "# initialization\n",
    "use_cuda = torch.cuda.is_available()\n",
    "FloatTensor = torch.cuda.FloatTensor if use_cuda else torch.FloatTensor\n",
    "LongTensor = torch.cuda.LongTensor if use_cuda else torch.LongTensor\n",
    "ByteTensor = torch.cuda.ByteTensor if use_cuda else torch.ByteTensor\n",
    "Tensor = FloatTensor\n",
    "\n",
    "Transition = namedtuple('Transition', ('state', 'action', 'reward', 'next_state'))"
   ]
  },
  {
   "cell_type": "code",
   "execution_count": 247,
   "metadata": {
    "collapsed": true
   },
   "outputs": [],
   "source": [
    "# classes\n",
    "class Experience(object):\n",
    "    def __init__(self, capacity):\n",
    "        self.capacity = capacity\n",
    "        self.mem = []\n",
    "        self.pos = 0\n",
    "    \n",
    "    def push(self, o, a, r, o_next):\n",
    "        if len(self.mem) < self.capacity:\n",
    "            self.mem.append(None)\n",
    "        self.mem[self.pos] = Transition(o, a, r, o_next)\n",
    "        self.pos = (self.pos + 1) % self.capacity\n",
    "    \n",
    "    def sample(self, size):\n",
    "        return random.sample(self.mem, min(size, len(self.mem)))\n",
    "\n",
    "class DQN(nn.Module):\n",
    "    def __init__(self):\n",
    "        super(DQN, self).__init__()\n",
    "        N_STATES = 4\n",
    "        N_ACTIONS = 2\n",
    "        self.fc1 = nn.Linear(N_STATES, 10)\n",
    "        self.fc1.weight.data.normal_(0, 0.1)\n",
    "        self.fc2 = nn.Linear(10, N_ACTIONS)\n",
    "        self.fc2.weight.data.normal_(0, 0.1)\n",
    "    \n",
    "    def forward(self, x):\n",
    "        x = self.fc1(x)\n",
    "        x = F.relu(x)\n",
    "        x = self.fc2(x)\n",
    "        return x"
   ]
  },
  {
   "cell_type": "code",
   "execution_count": 264,
   "metadata": {},
   "outputs": [],
   "source": [
    "# functions\n",
    "def choose_action(bahavior_network, o):\n",
    "    if random.random()<EPSILON:\n",
    "        return random.randint(0, N_ACTIONS-1)\n",
    "    else:\n",
    "        action = behavior_network(Variable(Tensor(o).unsqueeze(0))).max(1)[1]\n",
    "        return action.data[0][0]\n",
    "\n",
    "def mse_loss(input, target):\n",
    "    return torch.sum((input - target)**2) / input.data.nelement()\n",
    "        \n",
    "def run_and_store(env, behavior_network, exp):\n",
    "    o = env.reset()\n",
    "    count = 0\n",
    "    for t in xrange(MAX_STEP):\n",
    "        count += 1\n",
    "        a = choose_action(behavior_network, o)\n",
    "        o_next, r, done, info = env.step(a)\n",
    "        \n",
    "        \n",
    "        x, x_dot, theta, theta_dot = o_next\n",
    "        r1 = (env.x_threshold - abs(x)) / env.x_threshold - 0.8\n",
    "        r2 = (env.theta_threshold_radians - abs(theta)) / env.theta_threshold_radians - 0.5\n",
    "        r = r1 + r2\n",
    "        \n",
    "        \n",
    "        \n",
    "        exp.push(o, a, r, o_next)\n",
    "        o = o_next\n",
    "        if done:\n",
    "            break\n",
    "    return count\n",
    "            \n",
    "def learn(target_network, behavior_network, exp, optimizer):\n",
    "    # batch\n",
    "    minibatch = exp.sample(BATCH_SIZE)\n",
    "    minibatch = Transition(*zip(*minibatch))\n",
    "    s_batch = Variable(Tensor(minibatch.state))\n",
    "    a_batch = Variable(LongTensor(minibatch.action).unsqueeze(1))\n",
    "    r_batch = Variable(Tensor(minibatch.reward))\n",
    "    s_next_batch = Variable(Tensor(minibatch.next_state))\n",
    "\n",
    "    # loss\n",
    "    s_eval = behavior_network(s_batch).gather(1, a_batch)\n",
    "    s_next_eval = target_network(s_next_batch).max(1)[0]\n",
    "    Gt = r_batch + GAMMA * s_next_eval\n",
    "    Gt.detach_()\n",
    "    criterion = nn.MSELoss().cuda()\n",
    "    if use_cuda:\n",
    "        criterion.cuda()\n",
    "    loss = criterion(s_eval, Gt)\n",
    "    #loss = mse_loss(s_eval, Gt)\n",
    "    \n",
    "    # SGD\n",
    "    optimizer.zero_grad()\n",
    "    loss.backward()\n",
    "    optimizer.step()\n",
    "    \n",
    "def update_param(target_network, behavior_network):\n",
    "    target_network.load_state_dict(behavior_network.state_dict())"
   ]
  },
  {
   "cell_type": "code",
   "execution_count": 266,
   "metadata": {},
   "outputs": [
    {
     "name": "stderr",
     "output_type": "stream",
     "text": [
      "[2017-07-27 22:28:28,250] Making new env: CartPole-v0\n"
     ]
    },
    {
     "data": {
      "image/png": "[encoded data removed]",
      "text/plain": [
       "<matplotlib.figure.Figure at 0x7f592e4d8350>"
      ]
     },
     "metadata": {},
     "output_type": "display_data"
    }
   ],
   "source": [
    "# main\n",
    "env = gym.make('CartPole-v0')\n",
    "env = env.unwrapped\n",
    "behavior_network = DQN()\n",
    "target_network = DQN()\n",
    "if use_cuda:\n",
    "    behavior_network.cuda()\n",
    "    target_network.cuda()\n",
    "exp = Experience(EXPERIENCE_CAPACITY)\n",
    "optimizer = optim.SGD(behavior_network.parameters(), lr=LEARNING_RATE)\n",
    "steps = []\n",
    "for epi in xrange(MAX_EPI):\n",
    "    #if epi%200==199:\n",
    "    #    print epi\n",
    "    # run epi under behavior network and store experience in exp\n",
    "    step = run_and_store(env, behavior_network, exp)\n",
    "    steps.append(step)\n",
    "    # update behavior network\n",
    "    learn(target_network, behavior_network, exp, optimizer)\n",
    "    # update target network every UPDATE_FREQUENCY step\n",
    "    if(epi%UPDATE_FREQUENCY==UPDATE_FREQUENCY-1):\n",
    "        update_param(target_network, behavior_network)\n",
    "plt.plot(xrange(MAX_EPI), steps)\n",
    "plt.show()"
   ]
  },
  {
   "cell_type": "code",
   "execution_count": 259,
   "metadata": {},
   "outputs": [
    {
     "name": "stdout",
     "output_type": "stream",
     "text": [
      "Variable containing:\n",
      " 1  2  3  4\n",
      "[torch.cuda.FloatTensor of size 1x4 (GPU 0)]\n",
      "\n",
      "Variable containing:\n",
      "-0.1739  0.2354\n",
      "[torch.cuda.FloatTensor of size 1x2 (GPU 0)]\n",
      "\n"
     ]
    }
   ],
   "source": [
    "s = Variable(Tensor([1,2,3,4])).unsqueeze(0)\n",
    "print s\n",
    "print behavior_network.cuda()(s)"
   ]
  },
  {
   "cell_type": "code",
   "execution_count": 200,
   "metadata": {},
   "outputs": [
    {
     "ename": "SyntaxError",
     "evalue": "invalid syntax (<ipython-input-200-d4b0cd86402f>, line 8)",
     "output_type": "error",
     "traceback": [
      "\u001b[0;36m  File \u001b[0;32m\"<ipython-input-200-d4b0cd86402f>\"\u001b[0;36m, line \u001b[0;32m8\u001b[0m\n\u001b[0;31m    print x++\u001b[0m\n\u001b[0m             ^\u001b[0m\n\u001b[0;31mSyntaxError\u001b[0m\u001b[0;31m:\u001b[0m invalid syntax\n"
     ]
    }
   ],
   "source": [
    "x = Variable(Tensor([1,2,3]), requires_grad=True)\n",
    "y = Variable(Tensor([4,5,6]), requires_grad=False)\n",
    "criterion = nn.MSELoss()\n",
    "loss = criterion(x,y)\n",
    "loss.backward()\n",
    "#print loss\n",
    "x = 1\n",
    "print x++"
   ]
  }
 ],
 "metadata": {
  "kernelspec": {
   "display_name": "Python 2",
   "language": "python",
   "name": "python2"
  },
  "language_info": {
   "codemirror_mode": {
    "name": "ipython",
    "version": 2
   },
   "file_extension": ".py",
   "mimetype": "text/x-python",
   "name": "python",
   "nbconvert_exporter": "python",
   "pygments_lexer": "ipython2",
   "version": "2.7.13"
  }
 },
 "nbformat": 4,
 "nbformat_minor": 1
}
