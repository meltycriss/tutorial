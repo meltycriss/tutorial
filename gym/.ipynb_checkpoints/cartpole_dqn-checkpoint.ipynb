{
 "cells": [
  {
   "cell_type": "code",
   "execution_count": 1,
   "metadata": {
    "collapsed": true
   },
   "outputs": [],
   "source": [
    "# import\n",
    "import torch\n",
    "import torch.nn as nn\n",
    "from torch.autograd import Variable\n",
    "import torch.nn.functional as F\n",
    "import numpy as np\n",
    "import gym\n",
    "from collections import namedtuple\n",
    "import torch.optim as optim\n",
    "import random\n",
    "import matplotlib.pyplot as plt"
   ]
  },
  {
   "cell_type": "code",
   "execution_count": 7,
   "metadata": {
    "collapsed": true
   },
   "outputs": [],
   "source": [
    "# hyper-params\n",
    "GAMMA = .9\n",
    "LEARNING_RATE = .01\n",
    "EXPERIENCE_CAPACITY = 2000\n",
    "UPDATE_FREQUENCY = 100\n",
    "MAX_EPI = 200\n",
    "MAX_STEP = 200\n",
    "BATCH_SIZE = 32\n",
    "EPSILON = .1\n",
    "N_STATES = 4\n",
    "N_ACTIONS = 2"
   ]
  },
  {
   "cell_type": "code",
   "execution_count": 8,
   "metadata": {
    "collapsed": true
   },
   "outputs": [],
   "source": [
    "# initialization\n",
    "use_cuda = torch.cuda.is_available()\n",
    "FloatTensor = torch.cuda.FloatTensor if use_cuda else torch.FloatTensor\n",
    "LongTensor = torch.cuda.LongTensor if use_cuda else torch.LongTensor\n",
    "ByteTensor = torch.cuda.ByteTensor if use_cuda else torch.ByteTensor\n",
    "Tensor = FloatTensor\n",
    "\n",
    "Transition = namedtuple('Transition', ('state', 'action', 'reward', 'next_state'))"
   ]
  },
  {
   "cell_type": "code",
   "execution_count": 9,
   "metadata": {
    "collapsed": true
   },
   "outputs": [],
   "source": [
    "# classes\n",
    "class Experience(object):\n",
    "    def __init__(self, capacity):\n",
    "        self.capacity = capacity\n",
    "        self.mem = []\n",
    "        self.pos = 0\n",
    "    \n",
    "    def push(self, o, a, r, o_next):\n",
    "        if len(self.mem) < self.capacity:\n",
    "            self.mem.append(None)\n",
    "        self.mem[self.pos] = Transition(o, a, r, o_next)\n",
    "        self.pos = (self.pos + 1) % self.capacity\n",
    "    \n",
    "    def sample(self, size):\n",
    "        return random.sample(self.mem, min(size, len(self.mem)))\n",
    "\n",
    "class DQN(nn.Module):\n",
    "    def __init__(self):\n",
    "        super(DQN, self).__init__()\n",
    "        self.fc1 = nn.Linear(N_STATES, 10)\n",
    "        self.fc1.weight.data.normal_(0, 0.1)\n",
    "        self.fc2 = nn.Linear(10, N_ACTIONS)\n",
    "        self.fc2.weight.data.normal_(0, 0.1)\n",
    "    \n",
    "    def forward(self, x):\n",
    "        x = self.fc1(x)\n",
    "        x = F.relu(x)\n",
    "        x = self.fc2(x)\n",
    "        return x"
   ]
  },
  {
   "cell_type": "code",
   "execution_count": 10,
   "metadata": {
    "collapsed": true
   },
   "outputs": [],
   "source": [
    "# functions\n",
    "def choose_action(bahavior_network, o):\n",
    "    if random.random()<EPSILON:\n",
    "        return random.randint(0, N_ACTIONS-1)\n",
    "    else:\n",
    "        action = behavior_network(Variable(Tensor(o).unsqueeze(0))).max(1)[1]        \n",
    "        return action.data[0][0]\n",
    "\n",
    "def learn(target_network, behavior_network, exp, optimizer):\n",
    "    # batch\n",
    "    minibatch = exp.sample(BATCH_SIZE)\n",
    "    minibatch = Transition(*zip(*minibatch))\n",
    "    s_batch = Variable(Tensor(minibatch.state))\n",
    "    a_batch = Variable(LongTensor(minibatch.action).unsqueeze(1))\n",
    "    r_batch = Variable(Tensor(minibatch.reward))\n",
    "    s_next_batch = Variable(Tensor(minibatch.next_state))\n",
    "    \n",
    "    # loss\n",
    "    s_eval = behavior_network(s_batch).gather(1, a_batch)\n",
    "    s_next_eval = target_network(s_next_batch).max(1)[0]\n",
    "    Gt = r_batch + GAMMA * s_next_eval    \n",
    "    Gt.detach_()\n",
    "    criterion = nn.MSELoss()\n",
    "    if use_cuda:\n",
    "        criterion.cuda()\n",
    "    loss = criterion(s_eval, Gt)\n",
    "    \n",
    "    # Optimize\n",
    "    optimizer.zero_grad()\n",
    "    loss.backward()\n",
    "    optimizer.step()\n",
    "    \n",
    "def update_param(target_network, behavior_network):\n",
    "    target_network.load_state_dict(behavior_network.state_dict())"
   ]
  },
  {
   "cell_type": "code",
   "execution_count": 11,
   "metadata": {},
   "outputs": [
    {
     "name": "stderr",
     "output_type": "stream",
     "text": [
      "[2017-08-10 19:01:12,994] Making new env: CartPole-v0\n"
     ]
    },
    {
     "name": "stdout",
     "output_type": "stream",
     "text": [
      "n: 0, epi: 49, steps: 18\n",
      "n: 0, epi: 99, steps: 160\n",
      "n: 0, epi: 149, steps: 200\n",
      "n: 0, epi: 199, steps: 200\n",
      "n: 1, epi: 49, steps: 200\n",
      "n: 1, epi: 99, steps: 200\n",
      "n: 1, epi: 149, steps: 200\n",
      "n: 1, epi: 199, steps: 200\n",
      "n: 2, epi: 49, steps: 200\n",
      "n: 2, epi: 99, steps: 200\n",
      "n: 2, epi: 149, steps: 191\n",
      "n: 2, epi: 199, steps: 200\n",
      "n: 3, epi: 49, steps: 193\n",
      "n: 3, epi: 99, steps: 200\n",
      "n: 3, epi: 149, steps: 200\n",
      "n: 3, epi: 199, steps: 200\n",
      "n: 4, epi: 49, steps: 200\n",
      "n: 4, epi: 99, steps: 200\n",
      "n: 4, epi: 149, steps: 200\n",
      "n: 4, epi: 199, steps: 200\n"
     ]
    },
    {
     "data": {
      "image/png": "[encoded data removed]",
      "text/plain": [
       "<matplotlib.figure.Figure at 0x7ff9b7ca5790>"
      ]
     },
     "metadata": {},
     "output_type": "display_data"
    }
   ],
   "source": [
    "# main\n",
    "env = gym.make('CartPole-v0')\n",
    "env = env.unwrapped\n",
    "\n",
    "N_REPEAT = 5\n",
    "record = np.zeros((N_REPEAT, MAX_EPI))\n",
    "\n",
    "for n in xrange(N_REPEAT):\n",
    "    behavior_network = DQN()\n",
    "    target_network = DQN()\n",
    "    if use_cuda:\n",
    "        behavior_network.cuda()\n",
    "        target_network.cuda()\n",
    "    exp = Experience(EXPERIENCE_CAPACITY)\n",
    "    optimizer = optim.Adam(behavior_network.parameters(), lr=LEARNING_RATE)\n",
    "    learning_counter = 0\n",
    "    \n",
    "    # main loop\n",
    "    for epi in xrange(MAX_EPI):    \n",
    "        o = env.reset()\n",
    "        count = 0\n",
    "        for t in xrange(MAX_STEP):\n",
    "            count += 1\n",
    "        \n",
    "            a = choose_action(behavior_network, o)\n",
    "            o_next, r, done, info = env.step(a)      \n",
    "        \n",
    "            # sophisticated reward\n",
    "            x, x_dot, theta, theta_dot = o_next\n",
    "            r1 = (env.x_threshold - abs(x)) / env.x_threshold - 0.8\n",
    "            r2 = (env.theta_threshold_radians - abs(theta)) / env.theta_threshold_radians - 0.5\n",
    "            r = r1 + r2\n",
    "            \n",
    "            # slightly modified reward\n",
    "            #if done:\n",
    "            #    r = -10\n",
    "        \n",
    "            exp.push(o, a, r, o_next)\n",
    "            o = o_next\n",
    "            # update behavior network every step\n",
    "            learn(target_network, behavior_network, exp, optimizer)\n",
    "            learning_counter += 1\n",
    "            # update target network every UPDATE_FREQUENCY step\n",
    "            if(learning_counter%UPDATE_FREQUENCY==UPDATE_FREQUENCY-1):\n",
    "                update_param(target_network, behavior_network)\n",
    "    \n",
    "            if done:\n",
    "                break\n",
    "        if epi%50==49:\n",
    "            print 'n: {}, epi: {}, steps: {}'.format(n, epi, count)\n",
    "        record[n][epi] = count\n",
    "\n",
    "mu = record.mean(axis=0)\n",
    "sigma = record.std(axis=0)\n",
    "lower_bound = mu-sigma\n",
    "upper_bound = mu+sigma\n",
    "\n",
    "plt.plot(xrange(MAX_EPI), mu, color='red')\n",
    "plt.fill_between(xrange(MAX_EPI), lower_bound, upper_bound, facecolor='blue', alpha=0.5)\n",
    "plt.title('Cartpole with DQN \\n (Adam, modified reward, lr=0.01)')\n",
    "plt.xlabel('iteration')\n",
    "plt.ylabel('duration')\n",
    "#plt.savefig('2')\n",
    "plt.show()"
   ]
  },
  {
   "cell_type": "code",
   "execution_count": null,
   "metadata": {
    "collapsed": true
   },
   "outputs": [],
   "source": []
  }
 ],
 "metadata": {
  "kernelspec": {
   "display_name": "Python 2",
   "language": "python",
   "name": "python2"
  },
  "language_info": {
   "codemirror_mode": {
    "name": "ipython",
    "version": 2
   },
   "file_extension": ".py",
   "mimetype": "text/x-python",
   "name": "python",
   "nbconvert_exporter": "python",
   "pygments_lexer": "ipython2",
   "version": "2.7.13"
  }
 },
 "nbformat": 4,
 "nbformat_minor": 1
}
