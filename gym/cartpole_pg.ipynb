{
 "cells": [
  {
   "cell_type": "code",
   "execution_count": 4,
   "metadata": {},
   "outputs": [
    {
     "name": "stderr",
     "output_type": "stream",
     "text": [
      "[2017-08-10 19:18:01,364] Making new env: CartPole-v0\n"
     ]
    },
    {
     "data": {
      "image/png": "[encoded data removed]",
      "text/plain": [
       "<matplotlib.figure.Figure at 0x7f4d87d66790>"
      ]
     },
     "metadata": {},
     "output_type": "display_data"
    }
   ],
   "source": [
    "import gym\n",
    "import numpy as np\n",
    "import matplotlib.pyplot as plt\n",
    "\n",
    "# hypothesis p(a|s)\n",
    "def prob(s, a):\n",
    "    h = 1./(1.+np.exp(-np.dot(w.T, s)))\n",
    "    if a==0:\n",
    "        return h\n",
    "    else:\n",
    "        return 1-h\n",
    "    \n",
    "# hyperparams\n",
    "ALPHA = .001 #learning rate for policy gradient\n",
    "GAMA = .9 #discount\n",
    "MAX_EPI = 2000\n",
    "\n",
    "# variables\n",
    "w = np.random.rand(4,1)\n",
    "#w = np.array([  0.07361484,   2.06529216,   2.40575705,  13.57625866])\n",
    "#w = w.reshape(4,1)\n",
    "o = np.empty([4,1])\n",
    "a = None\n",
    "\n",
    "x_it = []\n",
    "y_r = []\n",
    "\n",
    "env = gym.make('CartPole-v0')\n",
    "\n",
    "for epi in range(MAX_EPI):\n",
    "    epi_o = []\n",
    "    epi_a = []\n",
    "    epi_r = []\n",
    "    epi_pi = []\n",
    "    o = env.reset()\n",
    "    for t in range(200):\n",
    "        #env.render()\n",
    "        o = o.reshape((4,1))\n",
    "        epi_o.append(o)\n",
    "        epi_pi.append(prob(o, 0))\n",
    "        action = 0 if np.random.random_sample()<epi_pi[-1] else 1\n",
    "        #action = 0 if 0.5<=epi_pi[-1] else 1\n",
    "        o, r, done, info = env.step(action)\n",
    "        epi_a.append(action)\n",
    "        epi_r.append(r)\n",
    "        if done:\n",
    "            break;\n",
    "    if epi%10==0:\n",
    "        x_it.append(epi)\n",
    "        y_r.append(len(epi_o))\n",
    "    #    print epi_a\n",
    "    for t in range(len(epi_o)):\n",
    "        s = epi_o[t]\n",
    "        a = epi_a[t]\n",
    "        pi = epi_pi[t]\n",
    "        #pi = prob(o, 0)\n",
    "        Gt = sum(epi_r[t:])\n",
    "        ev = (1-pi)*s if a==0 else -pi*s\n",
    "        #w += (ALPHA/(epi+1)) * Gt * ev\n",
    "        w += ALPHA * Gt * ev\n",
    "    \n",
    "plt.plot(x_it, y_r)\n",
    "plt.ylim((-1,250))\n",
    "plt.show()\n",
    "    \n",
    "\n"
   ]
  },
  {
   "cell_type": "code",
   "execution_count": 63,
   "metadata": {
    "collapsed": true
   },
   "outputs": [
    {
     "name": "stderr",
     "output_type": "stream",
     "text": [
      "[2017-07-22 13:23:25,401] Making new env: CartPole-v0\n"
     ]
    },
    {
     "name": "stdout",
     "output_type": "stream",
     "text": [
      "Monte-Carlo policy gradient get reward 10.0\n"
     ]
    }
   ],
   "source": []
  }
 ],
 "metadata": {
  "kernelspec": {
   "display_name": "Python 2",
   "language": "python",
   "name": "python2"
  },
  "language_info": {
   "codemirror_mode": {
    "name": "ipython",
    "version": 2
   },
   "file_extension": ".py",
   "mimetype": "text/x-python",
   "name": "python",
   "nbconvert_exporter": "python",
   "pygments_lexer": "ipython2",
   "version": "2.7.13"
  }
 },
 "nbformat": 4,
 "nbformat_minor": 1
}
