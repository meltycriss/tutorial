{
 "cells": [
  {
   "cell_type": "code",
   "execution_count": 36,
   "metadata": {
    "collapsed": true
   },
   "outputs": [],
   "source": [
    "import gym\n",
    "\n",
    "import torch\n",
    "import torch.nn as nn\n",
    "from torch.autograd import Variable\n",
    "import torch.nn.functional as F\n",
    "import torch.optim as optim\n",
    "\n",
    "import numpy as np\n",
    "from collections import namedtuple"
   ]
  },
  {
   "cell_type": "code",
   "execution_count": 37,
   "metadata": {},
   "outputs": [
    {
     "name": "stderr",
     "output_type": "stream",
     "text": [
      "[2017-08-05 15:20:25,913] Making new env: Pendulum-v0\n"
     ]
    }
   ],
   "source": [
    "ENV_NAME = 'Pendulum-v0'\n",
    "env = gym.make(ENV_NAME)\n",
    "GAMMA = .9\n",
    "LR_actor = .01\n",
    "LR_critic = .01\n",
    "EXPERIENCE_CAPACITY = 2000\n",
    "TARGET_UPDATE_FREQUENCY = 100\n",
    "MAX_EPI = 400\n",
    "MAX_STEP = 200\n",
    "BATCH_SIZE = 32\n",
    "EPSILON = .1\n",
    "N_STATES = env.observation_space.shape[0]\n",
    "N_ACTIONS = env.action_space.shape[0]"
   ]
  },
  {
   "cell_type": "code",
   "execution_count": 35,
   "metadata": {},
   "outputs": [
    {
     "ename": "NameError",
     "evalue": "name 'namedtuple' is not defined",
     "output_type": "error",
     "traceback": [
      "\u001b[0;31m---------------------------------------------------------------------------\u001b[0m",
      "\u001b[0;31mNameError\u001b[0m                                 Traceback (most recent call last)",
      "\u001b[0;32m<ipython-input-35-ebf117cd9db6>\u001b[0m in \u001b[0;36m<module>\u001b[0;34m()\u001b[0m\n\u001b[1;32m      6\u001b[0m \u001b[0mTensor\u001b[0m \u001b[0;34m=\u001b[0m \u001b[0mFloatTensor\u001b[0m\u001b[0;34m\u001b[0m\u001b[0m\n\u001b[1;32m      7\u001b[0m \u001b[0;34m\u001b[0m\u001b[0m\n\u001b[0;32m----> 8\u001b[0;31m \u001b[0mTransition\u001b[0m \u001b[0;34m=\u001b[0m \u001b[0mnamedtuple\u001b[0m\u001b[0;34m(\u001b[0m\u001b[0;34m'Transition'\u001b[0m\u001b[0;34m,\u001b[0m \u001b[0;34m(\u001b[0m\u001b[0;34m'state'\u001b[0m\u001b[0;34m,\u001b[0m \u001b[0;34m'action'\u001b[0m\u001b[0;34m,\u001b[0m \u001b[0;34m'reward'\u001b[0m\u001b[0;34m,\u001b[0m \u001b[0;34m'next_state'\u001b[0m\u001b[0;34m)\u001b[0m\u001b[0;34m)\u001b[0m\u001b[0;34m\u001b[0m\u001b[0m\n\u001b[0m",
      "\u001b[0;31mNameError\u001b[0m: name 'namedtuple' is not defined"
     ]
    }
   ],
   "source": [
    "# initialization\n",
    "use_cuda = torch.cuda.is_available()\n",
    "FloatTensor = torch.cuda.FloatTensor if use_cuda else torch.FloatTensor\n",
    "LongTensor = torch.cuda.LongTensor if use_cuda else torch.LongTensor\n",
    "ByteTensor = torch.cuda.ByteTensor if use_cuda else torch.ByteTensor\n",
    "Tensor = FloatTensor\n",
    "\n",
    "Transition = namedtuple('Transition', ('state', 'action', 'reward', 'next_state'))"
   ]
  },
  {
   "cell_type": "code",
   "execution_count": 56,
   "metadata": {
    "collapsed": true
   },
   "outputs": [],
   "source": [
    "# classes\n",
    "class Experience(object):\n",
    "    def __init__(self, capacity):\n",
    "        self.capacity = capacity\n",
    "        self.mem = []\n",
    "        self.pos = 0\n",
    "    \n",
    "    def push(self, o, a, r, o_next):\n",
    "        if len(self.mem) < self.capacity:\n",
    "            self.mem.append(None)\n",
    "        self.mem[self.pos] = Transition(o, a, r, o_next)\n",
    "        self.pos = (self.pos + 1) % self.capacity\n",
    "    \n",
    "    def sample(self, size):\n",
    "        return random.sample(self.mem, min(size, len(self.mem)))\n",
    "    \n",
    "class Critic(nn.Module):\n",
    "    def __init__(self):\n",
    "        super(Critic, self).__init__()\n",
    "        self.fcS = nn.Linear(N_STATES, 5)\n",
    "        self.fcS.weight.data.normal_(0, 0.1)\n",
    "        self.fcA = nn.Linear(N_ACTIONS, 5)\n",
    "        self.fcA.weight.data.normal_(0, 0.1)\n",
    "        self.fcO = nn.Linear(10, 1)\n",
    "        self.fcO.weight.data.normal_(0, 0.1)\n",
    "        \n",
    "    def forward(self, x):\n",
    "        print x\n",
    "        print x\n",
    "        s = self.fcS(x[:, :N_STATES])\n",
    "        s = F.relu(s)\n",
    "        a = self.fcA(x[:, -N_ACTIONS:])\n",
    "        a = F.relu(a)\n",
    "        o = self.fcO(torch.cat([s,a], 1))\n",
    "        return o"
   ]
  },
  {
   "cell_type": "code",
   "execution_count": 7,
   "metadata": {},
   "outputs": [
    {
     "name": "stderr",
     "output_type": "stream",
     "text": [
      "[2017-08-05 14:40:17,470] Making new env: Pendulum-v0\n"
     ]
    },
    {
     "name": "stdout",
     "output_type": "stream",
     "text": [
      "3\n"
     ]
    }
   ],
   "source": [
    "target_actor = Actor()\n",
    "target_critic = Critic()\n",
    "actor = Actor()\n",
    "critic = Critic()\n",
    "if use_cuda:\n",
    "    target_actor.cuda()\n",
    "    target_critic.cuda()\n",
    "    actor.cuda()\n",
    "    critic.cuda()\n",
    "    \n",
    "\n",
    "for epi in xrange(MAX_EPI):\n",
    "    o = env.reset()\n",
    "    for t in xrange(MAX_STEP):\n",
    "        a = choose_action(actor, seed)\n",
    "        o_, r, done, info = env.step(a)\n",
    "        exp.push(o, a, r, o_)\n",
    "        \n",
    "        update_actor_critic(target_actor, target_critic, \\\n",
    "                           actor, critic, exp)\n",
    "        \n",
    "        if update_counter % TARGET_UPDATE_FREQUENCY == 0:\n",
    "            update_target(target_actor, target_critic, \\\n",
    "                         actor, critic)\n",
    "        \n",
    "        o = o_\n",
    "        if done:\n",
    "            break"
   ]
  },
  {
   "cell_type": "code",
   "execution_count": 58,
   "metadata": {},
   "outputs": [
    {
     "name": "stdout",
     "output_type": "stream",
     "text": [
      "Variable containing:\n",
      " 1  2  3  4\n",
      "[torch.cuda.FloatTensor of size 1x4 (GPU 0)]\n",
      "\n",
      "Variable containing:\n",
      " 1  2  3  4\n",
      "[torch.cuda.FloatTensor of size 1x4 (GPU 0)]\n",
      "\n",
      "Variable containing:\n",
      "-0.2195\n",
      "[torch.cuda.FloatTensor of size 1x1 (GPU 0)]\n",
      "\n"
     ]
    }
   ],
   "source": [
    "critic = Critic().cuda()\n",
    "s = Variable(Tensor([1,2,3,4]).unsqueeze(0))\n",
    "#s.unsqueeze(0)\n",
    "print critic(s)"
   ]
  },
  {
   "cell_type": "code",
   "execution_count": null,
   "metadata": {
    "collapsed": true
   },
   "outputs": [],
   "source": []
  }
 ],
 "metadata": {
  "kernelspec": {
   "display_name": "Python 2",
   "language": "python",
   "name": "python2"
  },
  "language_info": {
   "codemirror_mode": {
    "name": "ipython",
    "version": 2
   },
   "file_extension": ".py",
   "mimetype": "text/x-python",
   "name": "python",
   "nbconvert_exporter": "python",
   "pygments_lexer": "ipython2",
   "version": "2.7.13"
  }
 },
 "nbformat": 4,
 "nbformat_minor": 2
}
