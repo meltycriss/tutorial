{
 "cells": [
  {
   "cell_type": "code",
   "execution_count": 53,
   "metadata": {
    "collapsed": false
   },
   "outputs": [
    {
     "ename": "SyntaxError",
     "evalue": "non-keyword arg after keyword arg (<ipython-input-53-9934528f4b88>, line 29)",
     "output_type": "error",
     "traceback": [
      "\u001b[0;36m  File \u001b[0;32m\"<ipython-input-53-9934528f4b88>\"\u001b[0;36m, line \u001b[0;32m29\u001b[0m\n\u001b[0;31m    uav_cube = np.insert(uav_cube, obj=uav_cube.shape[0], temp_uav, axis=0)\u001b[0m\n\u001b[0;31mSyntaxError\u001b[0m\u001b[0;31m:\u001b[0m non-keyword arg after keyword arg\n"
     ]
    }
   ],
   "source": [
    "import numpy as np\n",
    "\n",
    "coord = np.array([\n",
    "        [1,2,3],\n",
    "        [4,5,6],\n",
    "    ])\n",
    "\n",
    "coord_temp = np.copy(coord)\n",
    "\n",
    "coord[:,0]+=1\n",
    "\n",
    "np.append(coord_temp, coord, axis=0)\n",
    "\n",
    "#print np.vstack((coord_temp, coord))\n",
    "\n",
    "uav = np.array([1,2,3])\n",
    "\n",
    "uav_cube = np.empty((0,3))\n",
    "\n",
    "print uav_cube.shape[1]\n",
    "\n",
    "for i in [-1,1]:\n",
    "    for j in [-1,1]:\n",
    "        for z in [-1,1]:\n",
    "            temp_uav = np.copy(uav)\n",
    "            temp_uav[0]+=i\n",
    "            temp_uav[1]+=j\n",
    "            temp_uav[2]+=z\n",
    "            uav_cube = np.insert(uav_cube, obj=uav_cube.shape[0], temp_uav, axis=0)\n",
    "\n",
    "print uav_cube\n",
    "        "
   ]
  },
  {
   "cell_type": "code",
   "execution_count": 10,
   "metadata": {
    "collapsed": false
   },
   "outputs": [],
   "source": [
    "import matplotlib as mpl\n",
    "from mpl_toolkits.mplot3d import Axes3D\n",
    "import numpy as np\n",
    "import matplotlib.pyplot as plt\n",
    "\n",
    "mpl.rcParams['legend.fontsize'] = 10\n",
    "\n",
    "fig = plt.figure()\n",
    "ax = fig.gca(projection='3d')\n",
    "theta = np.linspace(-4 * np.pi, 4 * np.pi, 100)\n",
    "z = np.linspace(-2, 2, 100)\n",
    "r = z**2 + 1\n",
    "x = r * np.sin(theta)\n",
    "y = r * np.cos(theta)\n",
    "ax.plot(x, y, z, label='parametric curve')\n",
    "#ax.legend()\n",
    "\n",
    "ax.set_xlabel('$X$', fontsize=20)\n",
    "ax.set_ylabel('$Y$')\n",
    "ax.yaxis._axinfo['label']['space_factor'] = 3.0\n",
    "# set z ticks and labels\n",
    "ax.set_zticks([-2, 0, 2])\n",
    "# change fontsize\n",
    "#for t in ax.zaxis.get_major_ticks(): t.label.set_fontsize(10)\n",
    "# disable auto rotation\n",
    "#ax.zaxis.set_rotate_label(False) \n",
    "#ax.set_zlabel('$\\gamma$', fontsize=30, rotation = 0)\n",
    "plt.show()"
   ]
  },
  {
   "cell_type": "code",
   "execution_count": 15,
   "metadata": {
    "collapsed": true
   },
   "outputs": [],
   "source": [
    "import matplotlib.pyplot as plt\n",
    "import matplotlib.gridspec as gridspec\n",
    "import numpy as np\n",
    "\n",
    "try:\n",
    "    from itertools import product\n",
    "except ImportError:\n",
    "    # product is new in v 2.6\n",
    "    def product(*args, **kwds):\n",
    "        pools = map(tuple, args) * kwds.get('repeat', 1)\n",
    "        result = [[]]\n",
    "        for pool in pools:\n",
    "            result = [x+[y] for x in result for y in pool]\n",
    "        for prod in result:\n",
    "            yield tuple(prod)\n",
    "\n",
    "\n",
    "def squiggle_xy(a, b, c, d, i=np.arange(0.0, 2*np.pi, 0.05)):\n",
    "    return np.sin(i*a)*np.cos(i*b), np.sin(i*c)*np.cos(i*d)\n",
    "\n",
    "fig = plt.figure(figsize=(8, 8))\n",
    "\n",
    "# gridspec inside gridspec\n",
    "outer_grid = gridspec.GridSpec(4, 4, wspace=0, hspace=0)\n",
    "\n",
    "for i in range(16):\n",
    "    inner_grid = gridspec.GridSpecFromSubplotSpec(3, 3,\n",
    "            subplot_spec=outer_grid[i], wspace=0.0, hspace=0.0)\n",
    "    a, b = int(i/4)+1,i%4+1\n",
    "    for j, (c, d) in enumerate(product(range(1, 4), repeat=2)):\n",
    "        ax = plt.Subplot(fig, inner_grid[j])\n",
    "        ax.plot(*squiggle_xy(a, b, c, d))\n",
    "        ax.set_xticks([])\n",
    "        ax.set_yticks([])\n",
    "        fig.add_subplot(ax)\n",
    "\n",
    "all_axes = fig.get_axes()\n",
    "\n",
    "#show only the outside spines\n",
    "for ax in all_axes:\n",
    "    for sp in ax.spines.values():\n",
    "        sp.set_visible(False)\n",
    "    if ax.is_first_row():\n",
    "        ax.spines['top'].set_visible(True)\n",
    "    if ax.is_last_row():\n",
    "        ax.spines['bottom'].set_visible(True)\n",
    "    if ax.is_first_col():\n",
    "        ax.spines['left'].set_visible(True)\n",
    "    if ax.is_last_col():\n",
    "        ax.spines['right'].set_visible(True)\n",
    "\n",
    "plt.show()\n"
   ]
  },
  {
   "cell_type": "code",
   "execution_count": null,
   "metadata": {
    "collapsed": true
   },
   "outputs": [],
   "source": []
  }
 ],
 "metadata": {
  "kernelspec": {
   "display_name": "Python 2",
   "language": "python",
   "name": "python2"
  },
  "language_info": {
   "codemirror_mode": {
    "name": "ipython",
    "version": 2
   },
   "file_extension": ".py",
   "mimetype": "text/x-python",
   "name": "python",
   "nbconvert_exporter": "python",
   "pygments_lexer": "ipython2",
   "version": "2.7.12"
  }
 },
 "nbformat": 4,
 "nbformat_minor": 1
}
