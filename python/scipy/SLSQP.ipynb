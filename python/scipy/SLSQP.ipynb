{
 "cells": [
  {
   "cell_type": "code",
   "execution_count": 8,
   "metadata": {},
   "outputs": [
    {
     "name": "stdout",
     "output_type": "stream",
     "text": [
      "[ 3.5  1.   2. ]\n",
      "True\n",
      "Optimization terminated successfully.\n"
     ]
    }
   ],
   "source": [
    "from scipy.optimize import minimize, rosen, rosen_der\n",
    "import numpy as np\n",
    "\n",
    "def fun(d):\n",
    "    x = d[0]\n",
    "    y = d[1]\n",
    "    z = d[2]\n",
    "    return float(x**2 + y**2 + z**2)\n",
    "\n",
    "def jac(d):\n",
    "    x = d[0]\n",
    "    y = d[1]\n",
    "    z = d[2]\n",
    "    dfdx = 2*x\n",
    "    dfdy = 2*y\n",
    "    dfdz = 2*z\n",
    "    return np.array([dfdx, dfdy, dfdz], float)\n",
    "\n",
    "def f_eq(x):\n",
    "    return np.array([x[0] - 3.5], float)\n",
    "\n",
    "def fprime_eq(x):\n",
    "    return np.array([[1, 0, 0]], float)\n",
    "\n",
    "def f_ieq(x):\n",
    "    ieq0 = x[0] - 1\n",
    "    ieq1 = x[1] - 1\n",
    "    ieq2 = x[2] - 2\n",
    "    return np.array([ieq0, ieq1, ieq2], float)\n",
    "\n",
    "def fprime_ieq(x):\n",
    "    return np.array([[1, 0, 0], [0, 1, 0], [0, 0, 1]], float)\n",
    "\n",
    "const0 = {'type':'ineq', 'fun':f_ieq, 'jac':fprime_ieq}\n",
    "const1 = {'type':'eq', 'fun':f_eq, 'jac':fprime_eq}\n",
    "constraints = [const0, const1]\n",
    "\n",
    "#bounds = ((0, None), (5, None), (6, None))\n",
    "\n",
    "res = minimize(fun, [-1., -1., -1], method='SLSQP', jac=jac, \n",
    "              bounds = None, constraints=constraints,)\n",
    "\n",
    "print res.x\n",
    "print res.success\n",
    "print res.message"
   ]
  }
 ],
 "metadata": {
  "kernelspec": {
   "display_name": "Python 2",
   "language": "python",
   "name": "python2"
  },
  "language_info": {
   "codemirror_mode": {
    "name": "ipython",
    "version": 2
   },
   "file_extension": ".py",
   "mimetype": "text/x-python",
   "name": "python",
   "nbconvert_exporter": "python",
   "pygments_lexer": "ipython2",
   "version": "2.7.13"
  }
 },
 "nbformat": 4,
 "nbformat_minor": 2
}
